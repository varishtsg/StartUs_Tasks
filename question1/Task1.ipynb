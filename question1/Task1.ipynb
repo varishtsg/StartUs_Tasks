{
 "cells": [
  {
   "cell_type": "markdown",
   "id": "meaning-correction",
   "metadata": {},
   "source": [
    "There are two lists of different lengths. The first contains keys, and the second contains values.\n",
    "Write a function that creates a dictionary from these keys and values.\n",
    "If the key did not have enough values, the dictionary should have the value None.\n",
    "Values that did not have enough keys should be ignored.\n",
    "Write a tests using unittest/pytest."
   ]
  },
  {
   "cell_type": "code",
   "execution_count": 1,
   "id": "criminal-turner",
   "metadata": {},
   "outputs": [],
   "source": [
    "list1 = ['a', 'b', 'c', 'd']\n",
    "list3 = ['a', 'b', 'c']\n",
    "list2 = [1,3,4]"
   ]
  },
  {
   "cell_type": "code",
   "execution_count": 2,
   "id": "viral-hollywood",
   "metadata": {},
   "outputs": [],
   "source": [
    "def make_dict(list1, list2):\n",
    "    \"\"\"\n",
    "    Makes a dictionary using the provided lists.\n",
    "    Input:\n",
    "    list1 (list): List to be used for keys.\n",
    "    list2 (list): list to be used for values.\n",
    "    Output:\n",
    "    out_dict (dict): Dictionary using the input lists\n",
    "    \n",
    "    \"\"\"\n",
    "    out_dict = {}\n",
    "    i = 0\n",
    "    for item in list1:\n",
    "        out_dict[item] = list2[i] if i < len(list2) else None\n",
    "        i += 1\n",
    "        \n",
    "    return out_dict"
   ]
  },
  {
   "cell_type": "code",
   "execution_count": 4,
   "id": "included-colony",
   "metadata": {},
   "outputs": [
    {
     "name": "stdout",
     "output_type": "stream",
     "text": [
      "{'a': 1, 'b': 3, 'c': 4, 'd': None}\n"
     ]
    }
   ],
   "source": [
    "print(make_dict(list1, list2))"
   ]
  },
  {
   "cell_type": "code",
   "execution_count": null,
   "id": "amateur-democrat",
   "metadata": {},
   "outputs": [],
   "source": []
  }
 ],
 "metadata": {
  "kernelspec": {
   "display_name": "startus",
   "language": "python",
   "name": "startus"
  },
  "language_info": {
   "codemirror_mode": {
    "name": "ipython",
    "version": 3
   },
   "file_extension": ".py",
   "mimetype": "text/x-python",
   "name": "python",
   "nbconvert_exporter": "python",
   "pygments_lexer": "ipython3",
   "version": "3.8.5"
  }
 },
 "nbformat": 4,
 "nbformat_minor": 5
}
