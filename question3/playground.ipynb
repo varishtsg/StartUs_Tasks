{
 "cells": [
  {
   "cell_type": "code",
   "execution_count": 4,
   "id": "alive-concept",
   "metadata": {},
   "outputs": [
    {
     "name": "stdout",
     "output_type": "stream",
     "text": [
      "Collecting pandas-datareader\n",
      "  Downloading pandas_datareader-0.9.0-py3-none-any.whl (107 kB)\n",
      "\u001b[K     |████████████████████████████████| 107 kB 8.7 MB/s eta 0:00:01\n",
      "\u001b[?25hCollecting lxml\n",
      "  Downloading lxml-4.6.2-cp38-cp38-manylinux1_x86_64.whl (5.4 MB)\n",
      "\u001b[K     |████████████████████████████████| 5.4 MB 8.2 MB/s eta 0:00:01\n",
      "\u001b[?25hRequirement already satisfied, skipping upgrade: pandas>=0.23 in /home/senpai/.local/lib/python3.8/site-packages (from pandas-datareader) (1.2.2)\n",
      "Requirement already satisfied, skipping upgrade: requests>=2.19.0 in /usr/lib/python3/dist-packages (from pandas-datareader) (2.22.0)\n",
      "Requirement already satisfied, skipping upgrade: pytz>=2017.3 in /home/senpai/.local/lib/python3.8/site-packages (from pandas>=0.23->pandas-datareader) (2021.1)\n",
      "Requirement already satisfied, skipping upgrade: numpy>=1.16.5 in /home/senpai/.local/lib/python3.8/site-packages (from pandas>=0.23->pandas-datareader) (1.20.1)\n",
      "Requirement already satisfied, skipping upgrade: python-dateutil>=2.7.3 in /home/senpai/.local/lib/python3.8/site-packages (from pandas>=0.23->pandas-datareader) (2.8.1)\n",
      "Requirement already satisfied, skipping upgrade: six>=1.5 in /usr/lib/python3/dist-packages (from python-dateutil>=2.7.3->pandas>=0.23->pandas-datareader) (1.14.0)\n",
      "Installing collected packages: lxml, pandas-datareader\n",
      "Successfully installed lxml-4.6.2 pandas-datareader-0.9.0\n"
     ]
    }
   ],
   "source": [
    "import pandas as pd\n",
    "!pip3 install pandas-datareader --upgrade"
   ]
  },
  {
   "cell_type": "code",
   "execution_count": 10,
   "id": "german-power",
   "metadata": {},
   "outputs": [],
   "source": [
    "df = pd.read_csv('access.log',sep=\" \", names=['IP','User','Group', \"Time\", \"Request\", \"Status\", \"PID\", \"URL\", \"UA\"], engine='python')"
   ]
  },
  {
   "cell_type": "code",
   "execution_count": 11,
   "id": "official-religious",
   "metadata": {},
   "outputs": [
    {
     "data": {
      "text/html": [
       "<div>\n",
       "<style scoped>\n",
       "    .dataframe tbody tr th:only-of-type {\n",
       "        vertical-align: middle;\n",
       "    }\n",
       "\n",
       "    .dataframe tbody tr th {\n",
       "        vertical-align: top;\n",
       "    }\n",
       "\n",
       "    .dataframe thead th {\n",
       "        text-align: right;\n",
       "    }\n",
       "</style>\n",
       "<table border=\"1\" class=\"dataframe\">\n",
       "  <thead>\n",
       "    <tr style=\"text-align: right;\">\n",
       "      <th></th>\n",
       "      <th>IP</th>\n",
       "      <th>User</th>\n",
       "      <th>Group</th>\n",
       "      <th>Time</th>\n",
       "      <th>Request</th>\n",
       "      <th>Status</th>\n",
       "      <th>PID</th>\n",
       "      <th>URL</th>\n",
       "      <th>UA</th>\n",
       "    </tr>\n",
       "  </thead>\n",
       "  <tbody>\n",
       "    <tr>\n",
       "      <th>83.149.9.216</th>\n",
       "      <td>-</td>\n",
       "      <td>-</td>\n",
       "      <td>[17/May/2015:10:05:03</td>\n",
       "      <td>+0000]</td>\n",
       "      <td>GET /presentations/logstash-monitorama-2013/im...</td>\n",
       "      <td>200</td>\n",
       "      <td>203023</td>\n",
       "      <td>http://semicomplete.com/presentations/logstash...</td>\n",
       "      <td>Mozilla/5.0 (Macintosh; Intel Mac OS X 10_9_1)...</td>\n",
       "    </tr>\n",
       "    <tr>\n",
       "      <th>83.149.9.216</th>\n",
       "      <td>-</td>\n",
       "      <td>-</td>\n",
       "      <td>[17/May/2015:10:05:43</td>\n",
       "      <td>+0000]</td>\n",
       "      <td>GET /presentations/logstash-monitorama-2013/im...</td>\n",
       "      <td>200</td>\n",
       "      <td>171717</td>\n",
       "      <td>http://semicomplete.com/presentations/logstash...</td>\n",
       "      <td>Mozilla/5.0 (Macintosh; Intel Mac OS X 10_9_1)...</td>\n",
       "    </tr>\n",
       "    <tr>\n",
       "      <th>83.149.9.216</th>\n",
       "      <td>-</td>\n",
       "      <td>-</td>\n",
       "      <td>[17/May/2015:10:05:47</td>\n",
       "      <td>+0000]</td>\n",
       "      <td>GET /presentations/logstash-monitorama-2013/pl...</td>\n",
       "      <td>200</td>\n",
       "      <td>26185</td>\n",
       "      <td>http://semicomplete.com/presentations/logstash...</td>\n",
       "      <td>Mozilla/5.0 (Macintosh; Intel Mac OS X 10_9_1)...</td>\n",
       "    </tr>\n",
       "    <tr>\n",
       "      <th>83.149.9.216</th>\n",
       "      <td>-</td>\n",
       "      <td>-</td>\n",
       "      <td>[17/May/2015:10:05:12</td>\n",
       "      <td>+0000]</td>\n",
       "      <td>GET /presentations/logstash-monitorama-2013/pl...</td>\n",
       "      <td>200</td>\n",
       "      <td>7697</td>\n",
       "      <td>http://semicomplete.com/presentations/logstash...</td>\n",
       "      <td>Mozilla/5.0 (Macintosh; Intel Mac OS X 10_9_1)...</td>\n",
       "    </tr>\n",
       "    <tr>\n",
       "      <th>83.149.9.216</th>\n",
       "      <td>-</td>\n",
       "      <td>-</td>\n",
       "      <td>[17/May/2015:10:05:07</td>\n",
       "      <td>+0000]</td>\n",
       "      <td>GET /presentations/logstash-monitorama-2013/pl...</td>\n",
       "      <td>200</td>\n",
       "      <td>2892</td>\n",
       "      <td>http://semicomplete.com/presentations/logstash...</td>\n",
       "      <td>Mozilla/5.0 (Macintosh; Intel Mac OS X 10_9_1)...</td>\n",
       "    </tr>\n",
       "  </tbody>\n",
       "</table>\n",
       "</div>"
      ],
      "text/plain": [
       "             IP User                  Group    Time  \\\n",
       "83.149.9.216  -    -  [17/May/2015:10:05:03  +0000]   \n",
       "83.149.9.216  -    -  [17/May/2015:10:05:43  +0000]   \n",
       "83.149.9.216  -    -  [17/May/2015:10:05:47  +0000]   \n",
       "83.149.9.216  -    -  [17/May/2015:10:05:12  +0000]   \n",
       "83.149.9.216  -    -  [17/May/2015:10:05:07  +0000]   \n",
       "\n",
       "                                                        Request  Status  \\\n",
       "83.149.9.216  GET /presentations/logstash-monitorama-2013/im...     200   \n",
       "83.149.9.216  GET /presentations/logstash-monitorama-2013/im...     200   \n",
       "83.149.9.216  GET /presentations/logstash-monitorama-2013/pl...     200   \n",
       "83.149.9.216  GET /presentations/logstash-monitorama-2013/pl...     200   \n",
       "83.149.9.216  GET /presentations/logstash-monitorama-2013/pl...     200   \n",
       "\n",
       "                 PID                                                URL  \\\n",
       "83.149.9.216  203023  http://semicomplete.com/presentations/logstash...   \n",
       "83.149.9.216  171717  http://semicomplete.com/presentations/logstash...   \n",
       "83.149.9.216   26185  http://semicomplete.com/presentations/logstash...   \n",
       "83.149.9.216    7697  http://semicomplete.com/presentations/logstash...   \n",
       "83.149.9.216    2892  http://semicomplete.com/presentations/logstash...   \n",
       "\n",
       "                                                             UA  \n",
       "83.149.9.216  Mozilla/5.0 (Macintosh; Intel Mac OS X 10_9_1)...  \n",
       "83.149.9.216  Mozilla/5.0 (Macintosh; Intel Mac OS X 10_9_1)...  \n",
       "83.149.9.216  Mozilla/5.0 (Macintosh; Intel Mac OS X 10_9_1)...  \n",
       "83.149.9.216  Mozilla/5.0 (Macintosh; Intel Mac OS X 10_9_1)...  \n",
       "83.149.9.216  Mozilla/5.0 (Macintosh; Intel Mac OS X 10_9_1)...  "
      ]
     },
     "execution_count": 11,
     "metadata": {},
     "output_type": "execute_result"
    }
   ],
   "source": [
    "df.head()"
   ]
  },
  {
   "cell_type": "code",
   "execution_count": 21,
   "id": "african-dover",
   "metadata": {},
   "outputs": [],
   "source": [
    "with open('access.log') as f:\n",
    "    content = f.readlines()\n",
    "    \n",
    "content = [x.strip().replace(\" +\", '+') for x in content]"
   ]
  },
  {
   "cell_type": "code",
   "execution_count": 27,
   "id": "moral-navigator",
   "metadata": {},
   "outputs": [],
   "source": [
    "with open('access_mod.log', 'w') as filehandle:\n",
    "    for listitem in content:\n",
    "        filehandle.write('%s\\n' % listitem)"
   ]
  },
  {
   "cell_type": "code",
   "execution_count": 30,
   "id": "expressed-raleigh",
   "metadata": {},
   "outputs": [],
   "source": [
    "df = pd.read_csv('access_mod.log',sep=\" \", names=['IP','User','Group', \"Time\", \"Request\", \"Status\", \"PID\", \"URL\", \"UA\"], engine='python')"
   ]
  },
  {
   "cell_type": "code",
   "execution_count": 31,
   "id": "korean-shoot",
   "metadata": {},
   "outputs": [
    {
     "data": {
      "text/html": [
       "<div>\n",
       "<style scoped>\n",
       "    .dataframe tbody tr th:only-of-type {\n",
       "        vertical-align: middle;\n",
       "    }\n",
       "\n",
       "    .dataframe tbody tr th {\n",
       "        vertical-align: top;\n",
       "    }\n",
       "\n",
       "    .dataframe thead th {\n",
       "        text-align: right;\n",
       "    }\n",
       "</style>\n",
       "<table border=\"1\" class=\"dataframe\">\n",
       "  <thead>\n",
       "    <tr style=\"text-align: right;\">\n",
       "      <th></th>\n",
       "      <th>IP</th>\n",
       "      <th>User</th>\n",
       "      <th>Group</th>\n",
       "      <th>Time</th>\n",
       "      <th>Request</th>\n",
       "      <th>Status</th>\n",
       "      <th>PID</th>\n",
       "      <th>URL</th>\n",
       "      <th>UA</th>\n",
       "    </tr>\n",
       "  </thead>\n",
       "  <tbody>\n",
       "    <tr>\n",
       "      <th>0</th>\n",
       "      <td>83.149.9.216</td>\n",
       "      <td>-</td>\n",
       "      <td>-</td>\n",
       "      <td>[17/May/2015:10:05:03+0000]</td>\n",
       "      <td>GET /presentations/logstash-monitorama-2013/im...</td>\n",
       "      <td>200</td>\n",
       "      <td>203023</td>\n",
       "      <td>http://semicomplete.com/presentations/logstash...</td>\n",
       "      <td>Mozilla/5.0 (Macintosh; Intel Mac OS X 10_9_1)...</td>\n",
       "    </tr>\n",
       "    <tr>\n",
       "      <th>1</th>\n",
       "      <td>83.149.9.216</td>\n",
       "      <td>-</td>\n",
       "      <td>-</td>\n",
       "      <td>[17/May/2015:10:05:43+0000]</td>\n",
       "      <td>GET /presentations/logstash-monitorama-2013/im...</td>\n",
       "      <td>200</td>\n",
       "      <td>171717</td>\n",
       "      <td>http://semicomplete.com/presentations/logstash...</td>\n",
       "      <td>Mozilla/5.0 (Macintosh; Intel Mac OS X 10_9_1)...</td>\n",
       "    </tr>\n",
       "    <tr>\n",
       "      <th>2</th>\n",
       "      <td>83.149.9.216</td>\n",
       "      <td>-</td>\n",
       "      <td>-</td>\n",
       "      <td>[17/May/2015:10:05:47+0000]</td>\n",
       "      <td>GET /presentations/logstash-monitorama-2013/pl...</td>\n",
       "      <td>200</td>\n",
       "      <td>26185</td>\n",
       "      <td>http://semicomplete.com/presentations/logstash...</td>\n",
       "      <td>Mozilla/5.0 (Macintosh; Intel Mac OS X 10_9_1)...</td>\n",
       "    </tr>\n",
       "    <tr>\n",
       "      <th>3</th>\n",
       "      <td>83.149.9.216</td>\n",
       "      <td>-</td>\n",
       "      <td>-</td>\n",
       "      <td>[17/May/2015:10:05:12+0000]</td>\n",
       "      <td>GET /presentations/logstash-monitorama-2013/pl...</td>\n",
       "      <td>200</td>\n",
       "      <td>7697</td>\n",
       "      <td>http://semicomplete.com/presentations/logstash...</td>\n",
       "      <td>Mozilla/5.0 (Macintosh; Intel Mac OS X 10_9_1)...</td>\n",
       "    </tr>\n",
       "    <tr>\n",
       "      <th>4</th>\n",
       "      <td>83.149.9.216</td>\n",
       "      <td>-</td>\n",
       "      <td>-</td>\n",
       "      <td>[17/May/2015:10:05:07+0000]</td>\n",
       "      <td>GET /presentations/logstash-monitorama-2013/pl...</td>\n",
       "      <td>200</td>\n",
       "      <td>2892</td>\n",
       "      <td>http://semicomplete.com/presentations/logstash...</td>\n",
       "      <td>Mozilla/5.0 (Macintosh; Intel Mac OS X 10_9_1)...</td>\n",
       "    </tr>\n",
       "  </tbody>\n",
       "</table>\n",
       "</div>"
      ],
      "text/plain": [
       "             IP User Group                         Time  \\\n",
       "0  83.149.9.216    -     -  [17/May/2015:10:05:03+0000]   \n",
       "1  83.149.9.216    -     -  [17/May/2015:10:05:43+0000]   \n",
       "2  83.149.9.216    -     -  [17/May/2015:10:05:47+0000]   \n",
       "3  83.149.9.216    -     -  [17/May/2015:10:05:12+0000]   \n",
       "4  83.149.9.216    -     -  [17/May/2015:10:05:07+0000]   \n",
       "\n",
       "                                             Request  Status     PID  \\\n",
       "0  GET /presentations/logstash-monitorama-2013/im...     200  203023   \n",
       "1  GET /presentations/logstash-monitorama-2013/im...     200  171717   \n",
       "2  GET /presentations/logstash-monitorama-2013/pl...     200   26185   \n",
       "3  GET /presentations/logstash-monitorama-2013/pl...     200    7697   \n",
       "4  GET /presentations/logstash-monitorama-2013/pl...     200    2892   \n",
       "\n",
       "                                                 URL  \\\n",
       "0  http://semicomplete.com/presentations/logstash...   \n",
       "1  http://semicomplete.com/presentations/logstash...   \n",
       "2  http://semicomplete.com/presentations/logstash...   \n",
       "3  http://semicomplete.com/presentations/logstash...   \n",
       "4  http://semicomplete.com/presentations/logstash...   \n",
       "\n",
       "                                                  UA  \n",
       "0  Mozilla/5.0 (Macintosh; Intel Mac OS X 10_9_1)...  \n",
       "1  Mozilla/5.0 (Macintosh; Intel Mac OS X 10_9_1)...  \n",
       "2  Mozilla/5.0 (Macintosh; Intel Mac OS X 10_9_1)...  \n",
       "3  Mozilla/5.0 (Macintosh; Intel Mac OS X 10_9_1)...  \n",
       "4  Mozilla/5.0 (Macintosh; Intel Mac OS X 10_9_1)...  "
      ]
     },
     "execution_count": 31,
     "metadata": {},
     "output_type": "execute_result"
    }
   ],
   "source": [
    "df.head()"
   ]
  },
  {
   "cell_type": "code",
   "execution_count": 32,
   "id": "inappropriate-stockholm",
   "metadata": {},
   "outputs": [
    {
     "data": {
      "text/plain": [
       "0    66.249.73.135\n",
       "dtype: object"
      ]
     },
     "execution_count": 32,
     "metadata": {},
     "output_type": "execute_result"
    }
   ],
   "source": [
    "df.IP.mode()"
   ]
  },
  {
   "cell_type": "code",
   "execution_count": 74,
   "id": "lonely-video",
   "metadata": {},
   "outputs": [
    {
     "data": {
      "text/plain": [
       "['66.249.73.135',\n",
       " '46.105.14.53',\n",
       " '130.237.218.86',\n",
       " '75.97.9.59',\n",
       " '50.16.19.13',\n",
       " '209.85.238.199',\n",
       " '68.180.224.225',\n",
       " '100.43.83.137',\n",
       " '208.115.111.72',\n",
       " '198.46.149.143']"
      ]
     },
     "execution_count": 74,
     "metadata": {},
     "output_type": "execute_result"
    }
   ],
   "source": [
    "df['IP'].value_counts()[:10].index.tolist()"
   ]
  },
  {
   "cell_type": "code",
   "execution_count": 77,
   "id": "stuck-issue",
   "metadata": {},
   "outputs": [
    {
     "ename": "TypeError",
     "evalue": "unhashable type: 'slice'",
     "output_type": "error",
     "traceback": [
      "\u001b[0;31m---------------------------------------------------------------------------\u001b[0m",
      "\u001b[0;31mTypeError\u001b[0m                                 Traceback (most recent call last)",
      "\u001b[0;32m<ipython-input-77-92cf9a6a346c>\u001b[0m in \u001b[0;36m<module>\u001b[0;34m\u001b[0m\n\u001b[0;32m----> 1\u001b[0;31m \u001b[0mdf_top_ips\u001b[0m\u001b[0;34m[\u001b[0m\u001b[0;34m:\u001b[0m\u001b[0;36m10\u001b[0m\u001b[0;34m]\u001b[0m\u001b[0;34m\u001b[0m\u001b[0;34m\u001b[0m\u001b[0m\n\u001b[0m",
      "\u001b[0;32m~/.local/lib/python3.8/site-packages/pandas/core/groupby/generic.py\u001b[0m in \u001b[0;36m__getitem__\u001b[0;34m(self, key)\u001b[0m\n\u001b[1;32m   1540\u001b[0m                 \u001b[0mstacklevel\u001b[0m\u001b[0;34m=\u001b[0m\u001b[0;36m2\u001b[0m\u001b[0;34m,\u001b[0m\u001b[0;34m\u001b[0m\u001b[0;34m\u001b[0m\u001b[0m\n\u001b[1;32m   1541\u001b[0m             )\n\u001b[0;32m-> 1542\u001b[0;31m         \u001b[0;32mreturn\u001b[0m \u001b[0msuper\u001b[0m\u001b[0;34m(\u001b[0m\u001b[0;34m)\u001b[0m\u001b[0;34m.\u001b[0m\u001b[0m__getitem__\u001b[0m\u001b[0;34m(\u001b[0m\u001b[0mkey\u001b[0m\u001b[0;34m)\u001b[0m\u001b[0;34m\u001b[0m\u001b[0;34m\u001b[0m\u001b[0m\n\u001b[0m\u001b[1;32m   1543\u001b[0m \u001b[0;34m\u001b[0m\u001b[0m\n\u001b[1;32m   1544\u001b[0m     \u001b[0;32mdef\u001b[0m \u001b[0m_gotitem\u001b[0m\u001b[0;34m(\u001b[0m\u001b[0mself\u001b[0m\u001b[0;34m,\u001b[0m \u001b[0mkey\u001b[0m\u001b[0;34m,\u001b[0m \u001b[0mndim\u001b[0m\u001b[0;34m:\u001b[0m \u001b[0mint\u001b[0m\u001b[0;34m,\u001b[0m \u001b[0msubset\u001b[0m\u001b[0;34m=\u001b[0m\u001b[0;32mNone\u001b[0m\u001b[0;34m)\u001b[0m\u001b[0;34m:\u001b[0m\u001b[0;34m\u001b[0m\u001b[0;34m\u001b[0m\u001b[0m\n",
      "\u001b[0;32m~/.local/lib/python3.8/site-packages/pandas/core/base.py\u001b[0m in \u001b[0;36m__getitem__\u001b[0;34m(self, key)\u001b[0m\n\u001b[1;32m    277\u001b[0m         \u001b[0;32melse\u001b[0m\u001b[0;34m:\u001b[0m\u001b[0;34m\u001b[0m\u001b[0;34m\u001b[0m\u001b[0m\n\u001b[1;32m    278\u001b[0m             \u001b[0;31m# error: \"SelectionMixin\" has no attribute \"obj\"  [attr-defined]\u001b[0m\u001b[0;34m\u001b[0m\u001b[0;34m\u001b[0m\u001b[0;34m\u001b[0m\u001b[0m\n\u001b[0;32m--> 279\u001b[0;31m             \u001b[0;32mif\u001b[0m \u001b[0mkey\u001b[0m \u001b[0;32mnot\u001b[0m \u001b[0;32min\u001b[0m \u001b[0mself\u001b[0m\u001b[0;34m.\u001b[0m\u001b[0mobj\u001b[0m\u001b[0;34m:\u001b[0m  \u001b[0;31m# type: ignore[attr-defined]\u001b[0m\u001b[0;34m\u001b[0m\u001b[0;34m\u001b[0m\u001b[0m\n\u001b[0m\u001b[1;32m    280\u001b[0m                 \u001b[0;32mraise\u001b[0m \u001b[0mKeyError\u001b[0m\u001b[0;34m(\u001b[0m\u001b[0;34mf\"Column not found: {key}\"\u001b[0m\u001b[0;34m)\u001b[0m\u001b[0;34m\u001b[0m\u001b[0;34m\u001b[0m\u001b[0m\n\u001b[1;32m    281\u001b[0m             \u001b[0;32mreturn\u001b[0m \u001b[0mself\u001b[0m\u001b[0;34m.\u001b[0m\u001b[0m_gotitem\u001b[0m\u001b[0;34m(\u001b[0m\u001b[0mkey\u001b[0m\u001b[0;34m,\u001b[0m \u001b[0mndim\u001b[0m\u001b[0;34m=\u001b[0m\u001b[0;36m1\u001b[0m\u001b[0;34m)\u001b[0m\u001b[0;34m\u001b[0m\u001b[0;34m\u001b[0m\u001b[0m\n",
      "\u001b[0;32m~/.local/lib/python3.8/site-packages/pandas/core/generic.py\u001b[0m in \u001b[0;36m__contains__\u001b[0;34m(self, key)\u001b[0m\n\u001b[1;32m   1836\u001b[0m     \u001b[0;32mdef\u001b[0m \u001b[0m__contains__\u001b[0m\u001b[0;34m(\u001b[0m\u001b[0mself\u001b[0m\u001b[0;34m,\u001b[0m \u001b[0mkey\u001b[0m\u001b[0;34m)\u001b[0m \u001b[0;34m->\u001b[0m \u001b[0mbool_t\u001b[0m\u001b[0;34m:\u001b[0m\u001b[0;34m\u001b[0m\u001b[0;34m\u001b[0m\u001b[0m\n\u001b[1;32m   1837\u001b[0m         \u001b[0;34m\"\"\"True if the key is in the info axis\"\"\"\u001b[0m\u001b[0;34m\u001b[0m\u001b[0;34m\u001b[0m\u001b[0m\n\u001b[0;32m-> 1838\u001b[0;31m         \u001b[0;32mreturn\u001b[0m \u001b[0mkey\u001b[0m \u001b[0;32min\u001b[0m \u001b[0mself\u001b[0m\u001b[0;34m.\u001b[0m\u001b[0m_info_axis\u001b[0m\u001b[0;34m\u001b[0m\u001b[0;34m\u001b[0m\u001b[0m\n\u001b[0m\u001b[1;32m   1839\u001b[0m \u001b[0;34m\u001b[0m\u001b[0m\n\u001b[1;32m   1840\u001b[0m     \u001b[0;34m@\u001b[0m\u001b[0mproperty\u001b[0m\u001b[0;34m\u001b[0m\u001b[0;34m\u001b[0m\u001b[0m\n",
      "\u001b[0;32m~/.local/lib/python3.8/site-packages/pandas/core/indexes/base.py\u001b[0m in \u001b[0;36m__contains__\u001b[0;34m(self, key)\u001b[0m\n\u001b[1;32m   4263\u001b[0m         \u001b[0;32mFalse\u001b[0m\u001b[0;34m\u001b[0m\u001b[0;34m\u001b[0m\u001b[0m\n\u001b[1;32m   4264\u001b[0m         \"\"\"\n\u001b[0;32m-> 4265\u001b[0;31m         \u001b[0mhash\u001b[0m\u001b[0;34m(\u001b[0m\u001b[0mkey\u001b[0m\u001b[0;34m)\u001b[0m\u001b[0;34m\u001b[0m\u001b[0;34m\u001b[0m\u001b[0m\n\u001b[0m\u001b[1;32m   4266\u001b[0m         \u001b[0;32mtry\u001b[0m\u001b[0;34m:\u001b[0m\u001b[0;34m\u001b[0m\u001b[0;34m\u001b[0m\u001b[0m\n\u001b[1;32m   4267\u001b[0m             \u001b[0;32mreturn\u001b[0m \u001b[0mkey\u001b[0m \u001b[0;32min\u001b[0m \u001b[0mself\u001b[0m\u001b[0;34m.\u001b[0m\u001b[0m_engine\u001b[0m\u001b[0;34m\u001b[0m\u001b[0;34m\u001b[0m\u001b[0m\n",
      "\u001b[0;31mTypeError\u001b[0m: unhashable type: 'slice'"
     ]
    }
   ],
   "source": [
    "df_top_ips[:10]"
   ]
  },
  {
   "cell_type": "code",
   "execution_count": 76,
   "id": "assumed-cursor",
   "metadata": {},
   "outputs": [
    {
     "data": {
      "text/plain": [
       "<pandas.core.groupby.generic.DataFrameGroupBy object at 0x7f31856895b0>"
      ]
     },
     "execution_count": 76,
     "metadata": {},
     "output_type": "execute_result"
    }
   ],
   "source": [
    "df_top_ips"
   ]
  },
  {
   "cell_type": "code",
   "execution_count": 57,
   "id": "welsh-calcium",
   "metadata": {},
   "outputs": [
    {
     "data": {
      "text/html": [
       "<div>\n",
       "<style scoped>\n",
       "    .dataframe tbody tr th:only-of-type {\n",
       "        vertical-align: middle;\n",
       "    }\n",
       "\n",
       "    .dataframe tbody tr th {\n",
       "        vertical-align: top;\n",
       "    }\n",
       "\n",
       "    .dataframe thead th {\n",
       "        text-align: right;\n",
       "    }\n",
       "</style>\n",
       "<table border=\"1\" class=\"dataframe\">\n",
       "  <thead>\n",
       "    <tr style=\"text-align: right;\">\n",
       "      <th></th>\n",
       "      <th>IP</th>\n",
       "    </tr>\n",
       "    <tr>\n",
       "      <th>IP</th>\n",
       "      <th></th>\n",
       "    </tr>\n",
       "  </thead>\n",
       "  <tbody>\n",
       "    <tr>\n",
       "      <th>66.249.73.135</th>\n",
       "      <td>482</td>\n",
       "    </tr>\n",
       "    <tr>\n",
       "      <th>46.105.14.53</th>\n",
       "      <td>364</td>\n",
       "    </tr>\n",
       "    <tr>\n",
       "      <th>130.237.218.86</th>\n",
       "      <td>357</td>\n",
       "    </tr>\n",
       "    <tr>\n",
       "      <th>75.97.9.59</th>\n",
       "      <td>273</td>\n",
       "    </tr>\n",
       "    <tr>\n",
       "      <th>50.16.19.13</th>\n",
       "      <td>113</td>\n",
       "    </tr>\n",
       "    <tr>\n",
       "      <th>...</th>\n",
       "      <td>...</td>\n",
       "    </tr>\n",
       "    <tr>\n",
       "      <th>41.249.219.90</th>\n",
       "      <td>1</td>\n",
       "    </tr>\n",
       "    <tr>\n",
       "      <th>173.236.34.182</th>\n",
       "      <td>1</td>\n",
       "    </tr>\n",
       "    <tr>\n",
       "      <th>41.99.29.14</th>\n",
       "      <td>1</td>\n",
       "    </tr>\n",
       "    <tr>\n",
       "      <th>42.156.136.43</th>\n",
       "      <td>1</td>\n",
       "    </tr>\n",
       "    <tr>\n",
       "      <th>54.215.29.126</th>\n",
       "      <td>1</td>\n",
       "    </tr>\n",
       "  </tbody>\n",
       "</table>\n",
       "<p>1753 rows × 1 columns</p>\n",
       "</div>"
      ],
      "text/plain": [
       "                 IP\n",
       "IP                 \n",
       "66.249.73.135   482\n",
       "46.105.14.53    364\n",
       "130.237.218.86  357\n",
       "75.97.9.59      273\n",
       "50.16.19.13     113\n",
       "...             ...\n",
       "41.249.219.90     1\n",
       "173.236.34.182    1\n",
       "41.99.29.14       1\n",
       "42.156.136.43     1\n",
       "54.215.29.126     1\n",
       "\n",
       "[1753 rows x 1 columns]"
      ]
     },
     "execution_count": 57,
     "metadata": {},
     "output_type": "execute_result"
    }
   ],
   "source": []
  },
  {
   "cell_type": "code",
   "execution_count": null,
   "id": "sacred-shirt",
   "metadata": {},
   "outputs": [],
   "source": []
  }
 ],
 "metadata": {
  "kernelspec": {
   "display_name": "Python 3",
   "language": "python",
   "name": "python3"
  },
  "language_info": {
   "codemirror_mode": {
    "name": "ipython",
    "version": 3
   },
   "file_extension": ".py",
   "mimetype": "text/x-python",
   "name": "python",
   "nbconvert_exporter": "python",
   "pygments_lexer": "ipython3",
   "version": "3.8.5"
  }
 },
 "nbformat": 4,
 "nbformat_minor": 5
}
